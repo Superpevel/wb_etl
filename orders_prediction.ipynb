{
 "cells": [
  {
   "cell_type": "code",
   "execution_count": 3,
   "metadata": {},
   "outputs": [],
   "source": [
    "import logging.config\n",
    "from typing import List\n",
    "from dotenv import load_dotenv\n",
    "from fastapi import FastAPI, Query, Request, Response, Depends, Header\n",
    "from fastapi.responses import JSONResponse\n",
    "from db.db_conf import get_db\n",
    "from fastapi.middleware.cors import CORSMiddleware\n",
    "from sqlalchemy.orm import Session\n",
    "from models.user import User\n",
    "import jwt\n",
    "from logs.logs_config import LOGGING_CONFIG\n",
    "import logging\n",
    "from schemas.response_schemas.secured import SecuredResponse\n",
    "import json\n",
    "from fastapi import FastAPI\n",
    "from sqlalchemy.orm import Session\n",
    "import os\n",
    "from dotenv import load_dotenv\n",
    "from fastapi_utils.session import FastAPISessionMaker\n",
    "\n",
    "import requests \n",
    "from models import Order, Promo, PromoStats, Stats, Stocks, KeyWordsStats, Product\n",
    "import datetime\n",
    "import pandas as pd\n",
    "from time import sleep\n",
    "\n",
    "load_dotenv()\n",
    "from __future__ import print_function\n",
    "from collections import defaultdict\n",
    "from sqlalchemy.inspection import inspect\n",
    "\n",
    "database_uri = os.environ.get('DATABASE_URL')\n",
    "\n",
    "# session = Session()\n",
    "sessionmaker = FastAPISessionMaker(database_uri)\n",
    "\n",
    "def query_to_dict(rset):\n",
    "    result = defaultdict(list)\n",
    "    for obj in rset:\n",
    "        instance = inspect(obj)\n",
    "        for key, x in instance.attrs.items():\n",
    "            result[key].append(x.value)\n",
    "    return result\n",
    "\n",
    "with sessionmaker.context_session() as db:\n",
    "    try:\n",
    "       stats = db.query(Stats).select_from(Stats).join(Product).join(User).all()\n",
    "       df = pd.DataFrame(query_to_dict(stats))\n",
    "    except Exception as e:\n",
    "        print(e)\n",
    "        print(e)\n",
    "df\n",
    "\n"
   ]
  },
  {
   "cell_type": "code",
   "execution_count": null,
   "metadata": {},
   "outputs": [],
   "source": [
    "df.to_excel('df_pavel.xlsx')"
   ]
  },
  {
   "cell_type": "code",
   "execution_count": 1,
   "metadata": {},
   "outputs": [],
   "source": [
    "from catboost import CatBoostRegressor\n",
    "\n"
   ]
  },
  {
   "cell_type": "code",
   "execution_count": 2,
   "metadata": {},
   "outputs": [
    {
     "ename": "NameError",
     "evalue": "name 'df' is not defined",
     "output_type": "error",
     "traceback": [
      "\u001b[0;31m---------------------------------------------------------------------------\u001b[0m",
      "\u001b[0;31mNameError\u001b[0m                                 Traceback (most recent call last)",
      "\u001b[1;32m/Users/pavelsariia/Desktop/wb_etl/wb_etl/orders_prediction.ipynb Cell 4\u001b[0m line \u001b[0;36m1\n\u001b[0;32m----> <a href='vscode-notebook-cell:/Users/pavelsariia/Desktop/wb_etl/wb_etl/orders_prediction.ipynb#W1sZmlsZQ%3D%3D?line=0'>1</a>\u001b[0m df\n",
      "\u001b[0;31mNameError\u001b[0m: name 'df' is not defined"
     ]
    }
   ],
   "source": [
    "df"
   ]
  },
  {
   "cell_type": "markdown",
   "metadata": {},
   "source": [
    "### 1. Обрабатываем фичи"
   ]
  },
  {
   "cell_type": "code",
   "execution_count": 32,
   "metadata": {},
   "outputs": [
    {
     "data": {
      "text/plain": [
       "id                             int64\n",
       "date                  datetime64[ns]\n",
       "nmId                           int64\n",
       "product_id                     int64\n",
       "vendorCode                    object\n",
       "brandName                     object\n",
       "openCardCount                  int64\n",
       "addToCartCount                 int64\n",
       "ordersCount                    int64\n",
       "ordersSumRub                 float64\n",
       "buyoutsCount                   int64\n",
       "buyoutsSumRub                float64\n",
       "cancelCount                    int64\n",
       "cancelSumRub                 float64\n",
       "addToCartPercent             float64\n",
       "cartToOrderPercent           float64\n",
       "buyoutsPercent               float64\n",
       "avg_price_rub                float64\n",
       "user_id                        int64\n",
       "dtype: object"
      ]
     },
     "execution_count": 32,
     "metadata": {},
     "output_type": "execute_result"
    }
   ],
   "source": [
    "df.dtypes"
   ]
  },
  {
   "cell_type": "code",
   "execution_count": null,
   "metadata": {},
   "outputs": [],
   "source": [
    "# выделяем год, месяц, день недели и убираем колонку с полной датой\n",
    "df['year'] = df['date'].dt.year\n",
    "df['month'] = df['date'].dt.month\n",
    "df['day_of_week'] = df['date'].dt.dayofweek\n",
    "df = df.drop(columns='date')\n",
    "df.head()"
   ]
  },
  {
   "cell_type": "code",
   "execution_count": null,
   "metadata": {},
   "outputs": [],
   "source": [
    "# one hot encoding категориальных фичей, чтобы модель могла их обработать\n",
    "df = pd.get_dummies(df, columns=['vendorCode', 'brandName'])"
   ]
  },
  {
   "cell_type": "markdown",
   "metadata": {},
   "source": [
    "### 2) Создаем тренировочный и тестовый датасеты"
   ]
  },
  {
   "cell_type": "code",
   "execution_count": null,
   "metadata": {},
   "outputs": [],
   "source": [
    "# делим на матрицу признаков и таргет (число заказов)\n",
    "X = df.drop(columns='ordersCount')\n",
    "y = df['ordersCount']"
   ]
  },
  {
   "cell_type": "code",
   "execution_count": null,
   "metadata": {},
   "outputs": [],
   "source": [
    "# делим на тренировочную и тестовую выборку\n",
    "from sklearn.model_selection import train_test_split \n",
    "\n",
    "X_train, X_test, y_train, y_test = train_test_split(X, y, test_size=0.25)"
   ]
  },
  {
   "cell_type": "markdown",
   "metadata": {},
   "source": [
    "### 3) Обучаем модель градиентного бустинга CatBoost"
   ]
  },
  {
   "cell_type": "code",
   "execution_count": null,
   "metadata": {},
   "outputs": [],
   "source": [
    "\n",
    "from catboost import CatBoostRegressor"
   ]
  },
  {
   "cell_type": "code",
   "execution_count": null,
   "metadata": {},
   "outputs": [],
   "source": []
  }
 ],
 "metadata": {
  "kernelspec": {
   "display_name": "widget-micro-I4E4bc8y-py3.11",
   "language": "python",
   "name": "python3"
  },
  "language_info": {
   "codemirror_mode": {
    "name": "ipython",
    "version": 3
   },
   "file_extension": ".py",
   "mimetype": "text/x-python",
   "name": "python",
   "nbconvert_exporter": "python",
   "pygments_lexer": "ipython3",
   "version": "3.11.11"
  }
 },
 "nbformat": 4,
 "nbformat_minor": 2
}
